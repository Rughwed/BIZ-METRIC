{
 "cells": [
  {
   "cell_type": "code",
   "execution_count": 6,
   "metadata": {},
   "outputs": [],
   "source": [
    "import sys\n"
   ]
  },
  {
   "cell_type": "code",
   "execution_count": 2,
   "metadata": {},
   "outputs": [],
   "source": [
    "class Error1(Exception):\n",
    "    \"\"\" Base class for Exception \"\"\"\n",
    "    pass\n",
    "\n",
    "class Name_Field_error(Exception):\n",
    "    \"\"\" This is customized error \"\"\"\n",
    "    pass \n",
    "\n"
   ]
  },
  {
   "cell_type": "code",
   "execution_count": 5,
   "metadata": {},
   "outputs": [
    {
     "name": "stdout",
     "output_type": "stream",
     "text": [
      "invalid literal for int() with base 10: 'w'\n",
      "smtg went wrong\n",
      "10 11\n",
      "10 11\n",
      "try again\n",
      "10 13\n",
      "10 13\n",
      "try again\n",
      "10 3\n"
     ]
    }
   ],
   "source": [
    "n =10\n",
    "while True:\n",
    "    try:\n",
    "        in_number = input(\"enter no\")\n",
    "        in_number = int(in_number)\n",
    "        print(n,in_number)\n",
    "        if in_number > n:\n",
    "            print(n,in_number)\n",
    "            raise Name_Field_error\n",
    "        else:\n",
    "            break\n",
    "    except Name_Field_error:\n",
    "        print(\"try again\")\n",
    "    except:\n",
    "        print(sys.exc_info()[1])\n",
    "        print(\"smtg went wrong\")"
   ]
  },
  {
   "cell_type": "code",
   "execution_count": 14,
   "metadata": {},
   "outputs": [],
   "source": [
    "def valid_n(name):\n",
    "    try:\n",
    "        if name.isalpha():\n",
    "            flg = True\n",
    "            message = 'valid'\n",
    "            return message,flg,name\n",
    "        else:\n",
    "            flg = False\n",
    "            raise Exception(\"only letters are allowed\")\n",
    "    except:\n",
    "        print(sys.exc_info())\n",
    "        message =\"error occured\"\n",
    "        return flg,name,message\n",
    "            \n",
    "    "
   ]
  },
  {
   "cell_type": "code",
   "execution_count": 16,
   "metadata": {},
   "outputs": [
    {
     "data": {
      "text/plain": [
       "('valid', True, 'rugvec')"
      ]
     },
     "execution_count": 16,
     "metadata": {},
     "output_type": "execute_result"
    }
   ],
   "source": [
    "valid_n('rugvec')"
   ]
  }
 ],
 "metadata": {
  "kernelspec": {
   "display_name": "Python 3",
   "language": "python",
   "name": "python3"
  },
  "language_info": {
   "codemirror_mode": {
    "name": "ipython",
    "version": 3
   },
   "file_extension": ".py",
   "mimetype": "text/x-python",
   "name": "python",
   "nbconvert_exporter": "python",
   "pygments_lexer": "ipython3",
   "version": "3.12.1"
  }
 },
 "nbformat": 4,
 "nbformat_minor": 2
}
