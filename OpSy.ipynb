{
 "cells": [
  {
   "cell_type": "code",
   "execution_count": 1,
   "metadata": {},
   "outputs": [],
   "source": [
    "import os"
   ]
  },
  {
   "cell_type": "code",
   "execution_count": 6,
   "metadata": {},
   "outputs": [],
   "source": [
    "li = os.listdir(r'C:\\Users\\Admin\\Desktop')"
   ]
  },
  {
   "cell_type": "code",
   "execution_count": 7,
   "metadata": {},
   "outputs": [
    {
     "name": "stdout",
     "output_type": "stream",
     "text": [
      "abc.txt\n",
      "BIZ-METRIC\n",
      "data\n",
      "desktop.ini\n",
      "Docker Desktop.lnk\n",
      "dockerdemo.rar\n",
      "dockerdemo.zip\n",
      "ek.ppk\n",
      "filmora_setup_full846.exe.lnk\n",
      "GitHub Desktop.lnk\n",
      "Instagram.lnk\n",
      "linux key.ppk\n",
      "nerr.ppk\n",
      "New folder\n",
      "New Text Document.txt\n",
      "Person 1 - Chrome.lnk\n",
      "Telegram.lnk\n",
      "TLauncher.lnk\n",
      "WPS Office.lnk\n",
      "WPS PDF.lnk\n",
      "Zoom.lnk\n"
     ]
    }
   ],
   "source": [
    "for i in li:\n",
    "    print(i)"
   ]
  },
  {
   "cell_type": "code",
   "execution_count": 2,
   "metadata": {},
   "outputs": [
    {
     "name": "stdout",
     "output_type": "stream",
     "text": [
      "C:\\Users\\Admin\\Desktop\\abc.txt                          0.01\n",
      "C:\\Users\\Admin\\Desktop\\BIZ-METRIC                       8.192\n",
      "C:\\Users\\Admin\\Desktop\\create.txt                       0.14\n",
      "C:\\Users\\Admin\\Desktop\\data                             4.096\n",
      "C:\\Users\\Admin\\Desktop\\desktop.ini                      0.282\n",
      "C:\\Users\\Admin\\Desktop\\Docker Desktop.lnk               2.14\n",
      "C:\\Users\\Admin\\Desktop\\dockerdemo.rar                   0.909\n",
      "C:\\Users\\Admin\\Desktop\\dockerdemo.zip                   0.723\n",
      "C:\\Users\\Admin\\Desktop\\ek.ppk                           1.45\n",
      "C:\\Users\\Admin\\Desktop\\filmora_setup_full846.exe.lnk    0.68\n",
      "C:\\Users\\Admin\\Desktop\\GitHub Desktop.lnk               2.373\n",
      "C:\\Users\\Admin\\Desktop\\Instagram.lnk                    3.359\n",
      "C:\\Users\\Admin\\Desktop\\linux key.ppk                    1.45\n",
      "C:\\Users\\Admin\\Desktop\\nerr.ppk                         1.45\n",
      "C:\\Users\\Admin\\Desktop\\New folder                       4.096\n",
      "C:\\Users\\Admin\\Desktop\\New Text Document.txt            7.158\n",
      "C:\\Users\\Admin\\Desktop\\Person 1 - Chrome.lnk            2.394\n",
      "C:\\Users\\Admin\\Desktop\\sample                           0.0\n",
      "C:\\Users\\Admin\\Desktop\\sample2                          8.192\n",
      "C:\\Users\\Admin\\Desktop\\Telegram.lnk                     1.032\n",
      "C:\\Users\\Admin\\Desktop\\TLauncher.lnk                    1.937\n",
      "C:\\Users\\Admin\\Desktop\\WPS Office.lnk                   2.452\n",
      "C:\\Users\\Admin\\Desktop\\WPS PDF.lnk                      2.544\n",
      "C:\\Users\\Admin\\Desktop\\Zoom.lnk                         1.931\n"
     ]
    }
   ],
   "source": [
    "import os \n",
    "for i in os.listdir(\"C:\\\\Users\\\\Admin\\\\Desktop\"):\n",
    "    filename = 'C:\\\\Users\\\\Admin\\\\Desktop\\\\'+i\n",
    "    sz = os.stat(filename).st_size/1000\n",
    "    print(f\"{filename:55} {sz}\")\n",
    "    "
   ]
  },
  {
   "cell_type": "code",
   "execution_count": 3,
   "metadata": {},
   "outputs": [],
   "source": [
    "import shutil"
   ]
  },
  {
   "cell_type": "code",
   "execution_count": 23,
   "metadata": {},
   "outputs": [
    {
     "data": {
      "text/plain": [
       "'C:\\\\Users\\\\Admin\\\\Desktop\\\\BIZ-METRIC\\\\abc.txt'"
      ]
     },
     "execution_count": 23,
     "metadata": {},
     "output_type": "execute_result"
    }
   ],
   "source": [
    "shutil.copy('C:\\\\Users\\\\Admin\\\\Desktop\\\\abc.txt','C:\\\\Users\\\\Admin\\\\Desktop\\\\BIZ-METRIC')"
   ]
  },
  {
   "cell_type": "code",
   "execution_count": 24,
   "metadata": {},
   "outputs": [
    {
     "data": {
      "text/plain": [
       "'C:\\\\Users\\\\Admin\\\\Desktop\\\\BIZ-METRIC\\\\cut.txt'"
      ]
     },
     "execution_count": 24,
     "metadata": {},
     "output_type": "execute_result"
    }
   ],
   "source": [
    "shutil.move('C:\\\\Users\\\\Admin\\\\Desktop\\\\cut.txt','C:\\\\Users\\\\Admin\\\\Desktop\\\\BIZ-METRIC')"
   ]
  },
  {
   "cell_type": "code",
   "execution_count": 4,
   "metadata": {},
   "outputs": [
    {
     "data": {
      "text/plain": [
       "'C:\\\\Users\\\\Admin\\\\Desktop\\\\sample3'"
      ]
     },
     "execution_count": 4,
     "metadata": {},
     "output_type": "execute_result"
    }
   ],
   "source": [
    "shutil.copytree('C:\\\\Users\\\\Admin\\\\Desktop\\\\BIZ-METRIC','C:\\\\Users\\\\Admin\\\\Desktop\\\\sample3')"
   ]
  },
  {
   "cell_type": "code",
   "execution_count": 44,
   "metadata": {},
   "outputs": [],
   "source": [
    "file = open('C:\\\\Users\\\\Admin\\\\Desktop\\\\create.txt','r')"
   ]
  },
  {
   "cell_type": "code",
   "execution_count": 36,
   "metadata": {},
   "outputs": [
    {
     "name": "stdout",
     "output_type": "stream",
     "text": [
      "writing\n"
     ]
    }
   ],
   "source": [
    "print(\"writing\")\n",
    "file.write(\"My Name is Rughwed Dharmendra Kini\\n\")\n",
    "file.close()"
   ]
  },
  {
   "cell_type": "code",
   "execution_count": 50,
   "metadata": {},
   "outputs": [
    {
     "name": "stdout",
     "output_type": "stream",
     "text": [
      "reading\n"
     ]
    }
   ],
   "source": [
    "print(\"reading\")\n",
    "a = file.read()\n",
    "file.close()"
   ]
  },
  {
   "cell_type": "code",
   "execution_count": 49,
   "metadata": {},
   "outputs": [
    {
     "data": {
      "text/plain": [
       "'My Name is Rughwed Dharmendra Kini'"
      ]
     },
     "execution_count": 49,
     "metadata": {},
     "output_type": "execute_result"
    }
   ],
   "source": [
    "a[0:34]"
   ]
  },
  {
   "cell_type": "code",
   "execution_count": 51,
   "metadata": {},
   "outputs": [],
   "source": [
    "f = open('C:\\\\Users\\\\Admin\\\\Desktop\\\\create.txt')"
   ]
  },
  {
   "cell_type": "code",
   "execution_count": 52,
   "metadata": {},
   "outputs": [
    {
     "name": "stdout",
     "output_type": "stream",
     "text": [
      "position in loop = 104\n",
      "My Name is Rughwed Dharmendra KiniMy Name is Rughwed Dharmendra KiniMy Name is Rughwed Dharmendra Kini\n",
      "\n",
      "position in loop = 140\n",
      "My Name is Rughwed Dharmendra Kini\n",
      "\n",
      "position in loop = 140\n"
     ]
    }
   ],
   "source": [
    "while True:\n",
    "    str1 = f.readline()\n",
    "    print(\"position in loop =\",f.tell())\n",
    "    if str1:\n",
    "        print(str1)\n",
    "    else:\n",
    "        break\n"
   ]
  },
  {
   "cell_type": "code",
   "execution_count": 54,
   "metadata": {},
   "outputs": [
    {
     "name": "stdout",
     "output_type": "stream",
     "text": [
      "current pos 7\n",
      " is Rughwed Dharmendra KiniMy Name is Rughwed Dharmendra KiniMy Name is Rughwed Dharmendra Kini\n",
      "My Name is Rughwed Dharmendra Kini\n",
      "\n"
     ]
    }
   ],
   "source": [
    "f.seek(7)\n",
    "print('current pos',f.tell())\n",
    "print(f.read())\n"
   ]
  },
  {
   "cell_type": "code",
   "execution_count": 55,
   "metadata": {},
   "outputs": [],
   "source": [
    "f.close()"
   ]
  }
 ],
 "metadata": {
  "kernelspec": {
   "display_name": "Python 3",
   "language": "python",
   "name": "python3"
  },
  "language_info": {
   "codemirror_mode": {
    "name": "ipython",
    "version": 3
   },
   "file_extension": ".py",
   "mimetype": "text/x-python",
   "name": "python",
   "nbconvert_exporter": "python",
   "pygments_lexer": "ipython3",
   "version": "3.12.1"
  }
 },
 "nbformat": 4,
 "nbformat_minor": 2
}
