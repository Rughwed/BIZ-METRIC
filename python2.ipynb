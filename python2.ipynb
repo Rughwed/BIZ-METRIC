{
 "cells": [
  {
   "cell_type": "markdown",
   "metadata": {},
   "source": [
    "# FORMAT STRING"
   ]
  },
  {
   "cell_type": "code",
   "execution_count": 2,
   "metadata": {},
   "outputs": [
    {
     "name": "stdout",
     "output_type": "stream",
     "text": [
      "10 is smaller than 11\n"
     ]
    }
   ],
   "source": [
    "print(\"{a} is smaller than {b}\".format(a=10,b=11))"
   ]
  },
  {
   "cell_type": "code",
   "execution_count": 3,
   "metadata": {},
   "outputs": [
    {
     "name": "stdout",
     "output_type": "stream",
     "text": [
      "Rugved is an intern at Biz-M\n"
     ]
    }
   ],
   "source": [
    "\n",
    "print(\"{} is an intern at {}\".format('Rugved','Biz-M'))"
   ]
  },
  {
   "cell_type": "markdown",
   "metadata": {},
   "source": [
    "# FLOAT FORMATTING"
   ]
  },
  {
   "cell_type": "code",
   "execution_count": 4,
   "metadata": {},
   "outputs": [
    {
     "name": "stdout",
     "output_type": "stream",
     "text": [
      "two float numbers :10.76 & 220.5666666\n"
     ]
    }
   ],
   "source": [
    "a =10.76\n",
    "b = 220.5666666\n",
    "print(\"two float numbers :{} & {}\".format(a,b))"
   ]
  },
  {
   "cell_type": "code",
   "execution_count": 9,
   "metadata": {},
   "outputs": [
    {
     "name": "stdout",
     "output_type": "stream",
     "text": [
      "Two float numbers: 10.76 & 220.567\n",
      "two float numbers : 10.76 &     220.57\n",
      " two float numbers : 10.76 &          220.57\n"
     ]
    }
   ],
   "source": [
    "print(\"Two float numbers: {:.2f} & {:.3f}\".format(a,b))\n",
    "print(\"two float numbers : {:.2f} & {:10.2f}\".format(a,b))\n",
    "print(\" two float numbers : {:.2f} & {:15.2f}\".format(a,b))"
   ]
  },
  {
   "cell_type": "code",
   "execution_count": 12,
   "metadata": {},
   "outputs": [
    {
     "name": "stdout",
     "output_type": "stream",
     "text": [
      "two float number ru & kin\n"
     ]
    }
   ],
   "source": [
    "print(\"two float number {:.2s} & {:.3s}\".format(\"rugved\",'kini'))"
   ]
  },
  {
   "cell_type": "code",
   "execution_count": 14,
   "metadata": {},
   "outputs": [
    {
     "name": "stdout",
     "output_type": "stream",
     "text": [
      "<class 'tuple'>\n",
      "Hello rugved kini your current balance is $53 $45\n"
     ]
    }
   ],
   "source": [
    "data = ('rugved','kini',53.44,45.22)\n",
    "print(type(data))\n",
    "format_str = 'Hello %s %s your current balance is $%d $%d'\n",
    "new_str = format_str % data\n",
    "print(new_str)"
   ]
  },
  {
   "cell_type": "code",
   "execution_count": 18,
   "metadata": {},
   "outputs": [
    {
     "name": "stdout",
     "output_type": "stream",
     "text": [
      "    +12.23     -12.23\n",
      "     12.23     -12.23\n"
     ]
    }
   ],
   "source": [
    "print(\"{:+10.2f} {:+10.2f}\".format(12.23 , -12.23))\n",
    "\n",
    "print(\"{:-10.2f} {:-10.2f}\".format(12.23,-12.23))"
   ]
  },
  {
   "cell_type": "markdown",
   "metadata": {},
   "source": [
    "# left allignment"
   ]
  },
  {
   "cell_type": "code",
   "execution_count": 19,
   "metadata": {},
   "outputs": [
    {
     "name": "stdout",
     "output_type": "stream",
     "text": [
      "cat       \n"
     ]
    }
   ],
   "source": [
    "print(\"{:10}\".format(\"cat\"))"
   ]
  },
  {
   "cell_type": "markdown",
   "metadata": {},
   "source": [
    "Right Allignment"
   ]
  },
  {
   "cell_type": "code",
   "execution_count": 20,
   "metadata": {},
   "outputs": [
    {
     "name": "stdout",
     "output_type": "stream",
     "text": [
      "       cat\n"
     ]
    }
   ],
   "source": [
    "print(\"{:>10}\".format(\"cat\"))"
   ]
  },
  {
   "cell_type": "markdown",
   "metadata": {},
   "source": [
    "# centre padding"
   ]
  },
  {
   "cell_type": "code",
   "execution_count": 23,
   "metadata": {},
   "outputs": [
    {
     "name": "stdout",
     "output_type": "stream",
     "text": [
      "*************cat**************\n"
     ]
    }
   ],
   "source": [
    "print(\"{:*^30}\".format(\"cat\"))"
   ]
  },
  {
   "cell_type": "markdown",
   "metadata": {},
   "source": [
    "# REGEX"
   ]
  },
  {
   "cell_type": "code",
   "execution_count": 27,
   "metadata": {},
   "outputs": [],
   "source": [
    "import re"
   ]
  },
  {
   "cell_type": "markdown",
   "metadata": {},
   "source": [
    "# Starting Point ^"
   ]
  },
  {
   "cell_type": "code",
   "execution_count": 43,
   "metadata": {},
   "outputs": [
    {
     "name": "stdout",
     "output_type": "stream",
     "text": [
      "an apple\n"
     ]
    }
   ],
   "source": [
    "pattern = '^[A,E,I,O,U,a,e,i,o,u]'\n",
    "stri = input(\"enter\")\n",
    "if re.match(pattern,stri):\n",
    "    print('an', stri)"
   ]
  },
  {
   "cell_type": "markdown",
   "metadata": {},
   "source": [
    "# end $"
   ]
  },
  {
   "cell_type": "code",
   "execution_count": 46,
   "metadata": {},
   "outputs": [
    {
     "name": "stdout",
     "output_type": "stream",
     "text": [
      "Hello\n"
     ]
    }
   ],
   "source": [
    "pattern2 = '^[A-Z][a-z]*[a-z]$'\n",
    "str2 = input(\"enter the number\")\n",
    "if re.match(pattern2,str2):\n",
    "    print(str2)"
   ]
  },
  {
   "cell_type": "markdown",
   "metadata": {},
   "source": []
  },
  {
   "cell_type": "code",
   "execution_count": 50,
   "metadata": {},
   "outputs": [
    {
     "name": "stdout",
     "output_type": "stream",
     "text": [
      "Axy\n"
     ]
    }
   ],
   "source": [
    "pat3 = '^[A-Z].[A-z]$'\n",
    "str3 = input(\"enter\")\n",
    "if re.match(pat3,str3):\n",
    "    print(str3)"
   ]
  },
  {
   "cell_type": "code",
   "execution_count": 51,
   "metadata": {},
   "outputs": [
    {
     "name": "stdout",
     "output_type": "stream",
     "text": [
      "A23c\n"
     ]
    }
   ],
   "source": [
    "pat4 = '^[A-Z].{2}[A-z]$'\n",
    "str4 = input(\"enter\")\n",
    "if re.match(pat4,str4):\n",
    "    print(str4)"
   ]
  },
  {
   "cell_type": "code",
   "execution_count": 53,
   "metadata": {},
   "outputs": [],
   "source": [
    "pat5 = '[A-z]*e$'\n",
    "str5 = input(\"enter\")\n",
    "re.match(pat5,str5)\n"
   ]
  },
  {
   "cell_type": "code",
   "execution_count": 62,
   "metadata": {},
   "outputs": [
    {
     "data": {
      "text/plain": [
       "['Rugve', 'D', 'is', 'Rushikesh', 'is', 'Rushil', 'is', 'and', 'xyz', 'is']"
      ]
     },
     "execution_count": 62,
     "metadata": {},
     "output_type": "execute_result"
    }
   ],
   "source": [
    "nameage = \"\"\" \n",
    "        RugveD is 21\n",
    "        Rushikesh is 27\n",
    "        Rushil is 13\n",
    "        and xyz is 34354536547\n",
    "\"\"\"\n",
    "\n",
    "patx = '[A-z][a-z]*'\n",
    "re.findall(patx,nameage)"
   ]
  },
  {
   "cell_type": "code",
   "execution_count": 66,
   "metadata": {},
   "outputs": [
    {
     "name": "stderr",
     "output_type": "stream",
     "text": [
      "<>:1: SyntaxWarning: invalid escape sequence '\\d'\n",
      "<>:1: SyntaxWarning: invalid escape sequence '\\d'\n",
      "C:\\Users\\Admin\\AppData\\Local\\Temp\\ipykernel_18924\\1775621960.py:1: SyntaxWarning: invalid escape sequence '\\d'\n",
      "  re.findall('\\d',nameage)\n"
     ]
    },
    {
     "data": {
      "text/plain": [
       "['2',\n",
       " '1',\n",
       " '2',\n",
       " '7',\n",
       " '1',\n",
       " '3',\n",
       " '3',\n",
       " '4',\n",
       " '3',\n",
       " '5',\n",
       " '4',\n",
       " '5',\n",
       " '3',\n",
       " '6',\n",
       " '5',\n",
       " '4',\n",
       " '7']"
      ]
     },
     "execution_count": 66,
     "metadata": {},
     "output_type": "execute_result"
    }
   ],
   "source": [
    "re.findall('\\d',nameage)"
   ]
  },
  {
   "cell_type": "code",
   "execution_count": 70,
   "metadata": {},
   "outputs": [
    {
     "name": "stderr",
     "output_type": "stream",
     "text": [
      "<>:1: SyntaxWarning: invalid escape sequence '\\d'\n",
      "<>:1: SyntaxWarning: invalid escape sequence '\\d'\n",
      "C:\\Users\\Admin\\AppData\\Local\\Temp\\ipykernel_18924\\2601510743.py:1: SyntaxWarning: invalid escape sequence '\\d'\n",
      "  re.findall('\\d{1,11}',nameage)\n"
     ]
    },
    {
     "data": {
      "text/plain": [
       "['21', '27', '13', '34354536547']"
      ]
     },
     "execution_count": 70,
     "metadata": {},
     "output_type": "execute_result"
    }
   ],
   "source": [
    "re.findall('\\d{1,11}',nameage)"
   ]
  },
  {
   "cell_type": "code",
   "execution_count": 85,
   "metadata": {},
   "outputs": [
    {
     "data": {
      "text/plain": [
       "['21', '27', '13', '34354', '53654', '7']"
      ]
     },
     "execution_count": 85,
     "metadata": {},
     "output_type": "execute_result"
    }
   ],
   "source": [
    "re.findall('[0-9]{1,5}',nameage)"
   ]
  },
  {
   "cell_type": "code",
   "execution_count": 74,
   "metadata": {},
   "outputs": [
    {
     "data": {
      "text/plain": [
       "[<re.Match object; span=(13, 17), match='need'>,\n",
       " <re.Match object; span=(22, 26), match='need'>,\n",
       " <re.Match object; span=(49, 53), match='need'>,\n",
       " <re.Match object; span=(68, 72), match='need'>]"
      ]
     },
     "execution_count": 74,
     "metadata": {},
     "output_type": "execute_result"
    }
   ],
   "source": [
    "str_big = ''' \n",
    "        We need not needxsdfds djfndsu dsjfsujfneedfdsfds fjdsfudsneed\n",
    "\n",
    "'''\n",
    "list(re.finditer(\"need\",str_big))"
   ]
  },
  {
   "cell_type": "code",
   "execution_count": 79,
   "metadata": {},
   "outputs": [
    {
     "data": {
      "text/plain": [
       "<re.Match object; span=(1, 3), match='pp'>"
      ]
     },
     "execution_count": 79,
     "metadata": {},
     "output_type": "execute_result"
    }
   ],
   "source": [
    "re.search('[p]{2}','apple')"
   ]
  },
  {
   "cell_type": "code",
   "execution_count": 121,
   "metadata": {},
   "outputs": [
    {
     "data": {
      "text/plain": [
       "['need', 'need', 'dsjfsujfneed', 'fjdsfudsneed']"
      ]
     },
     "execution_count": 121,
     "metadata": {},
     "output_type": "execute_result"
    }
   ],
   "source": [
    "\n",
    "\n",
    "val = re.findall(\"[A-Z,a-z,0-9]*ed\",str_big)\n",
    "\n",
    "val"
   ]
  },
  {
   "cell_type": "code",
   "execution_count": 116,
   "metadata": {},
   "outputs": [],
   "source": [
    "\n",
    "for i in val:\n",
    "    re.findall(\"[A-z,0-9]*at$\",i)\n",
    "    print(i,val)"
   ]
  },
  {
   "cell_type": "markdown",
   "metadata": {},
   "source": [
    "# function with keyword argument for tuple as input\n"
   ]
  },
  {
   "cell_type": "code",
   "execution_count": 122,
   "metadata": {},
   "outputs": [],
   "source": [
    "def Pcmb(p,c,*s):\n",
    "    print(s,type(s))\n",
    "    total = p+c\n",
    "    for i in s:\n",
    "        total += int(i)\n",
    "    return total"
   ]
  },
  {
   "cell_type": "code",
   "execution_count": 123,
   "metadata": {},
   "outputs": [
    {
     "name": "stdout",
     "output_type": "stream",
     "text": [
      "(30, 40, '50') <class 'tuple'>\n"
     ]
    },
    {
     "data": {
      "text/plain": [
       "150"
      ]
     },
     "execution_count": 123,
     "metadata": {},
     "output_type": "execute_result"
    }
   ],
   "source": [
    "Pcmb(10,20,30,40,'50')"
   ]
  },
  {
   "cell_type": "markdown",
   "metadata": {},
   "source": [
    "# **S represents dictionary arguments"
   ]
  },
  {
   "cell_type": "code",
   "execution_count": 3,
   "metadata": {},
   "outputs": [],
   "source": [
    "def args(req,def1,*kw,**dict1):\n",
    "\n",
    "    print(f'this is required arg{req}')\n",
    "    print(f'this is default arg {def1}')\n",
    "    print('this is tuple',kw)\n",
    "    print('this is dictionary',dict1)\n",
    "    \n",
    "\n",
    "    return"
   ]
  },
  {
   "cell_type": "code",
   "execution_count": 4,
   "metadata": {},
   "outputs": [],
   "source": [
    "try1 = 10\n",
    "try2 = 20\n",
    "try3 = (2,3,4)\n",
    "try4 = {\"a\":'one',\"b\":'two',\"c\":'three'}"
   ]
  },
  {
   "cell_type": "code",
   "execution_count": 5,
   "metadata": {},
   "outputs": [
    {
     "name": "stdout",
     "output_type": "stream",
     "text": [
      "this is required arg10\n",
      "this is default arg 20\n",
      "this is tuple ((2, 3, 4),)\n",
      "this is dictionary {'a': 'one', 'b': 'two', 'c': 'three'}\n"
     ]
    }
   ],
   "source": [
    "args(try1,try2,try3,**try4)"
   ]
  }
 ],
 "metadata": {
  "kernelspec": {
   "display_name": "Python 3",
   "language": "python",
   "name": "python3"
  },
  "language_info": {
   "codemirror_mode": {
    "name": "ipython",
    "version": 3
   },
   "file_extension": ".py",
   "mimetype": "text/x-python",
   "name": "python",
   "nbconvert_exporter": "python",
   "pygments_lexer": "ipython3",
   "version": "3.12.1"
  }
 },
 "nbformat": 4,
 "nbformat_minor": 2
}
