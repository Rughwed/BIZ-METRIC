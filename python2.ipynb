{
 "cells": [
  {
   "cell_type": "markdown",
   "metadata": {},
   "source": [
    "# FORMAT STRING"
   ]
  },
  {
   "cell_type": "code",
   "execution_count": 2,
   "metadata": {},
   "outputs": [
    {
     "name": "stdout",
     "output_type": "stream",
     "text": [
      "10 is smaller than 11\n"
     ]
    }
   ],
   "source": [
    "print(\"{a} is smaller than {b}\".format(a=10,b=11))"
   ]
  },
  {
   "cell_type": "code",
   "execution_count": 3,
   "metadata": {},
   "outputs": [
    {
     "name": "stdout",
     "output_type": "stream",
     "text": [
      "Rugved is an intern at Biz-M\n"
     ]
    }
   ],
   "source": [
    "\n",
    "print(\"{} is an intern at {}\".format('Rugved','Biz-M'))"
   ]
  },
  {
   "cell_type": "markdown",
   "metadata": {},
   "source": [
    "# FLOAT FORMATTING"
   ]
  },
  {
   "cell_type": "code",
   "execution_count": 4,
   "metadata": {},
   "outputs": [
    {
     "name": "stdout",
     "output_type": "stream",
     "text": [
      "two float numbers :10.76 & 220.5666666\n"
     ]
    }
   ],
   "source": [
    "a =10.76\n",
    "b = 220.5666666\n",
    "print(\"two float numbers :{} & {}\".format(a,b))"
   ]
  },
  {
   "cell_type": "code",
   "execution_count": 9,
   "metadata": {},
   "outputs": [
    {
     "name": "stdout",
     "output_type": "stream",
     "text": [
      "Two float numbers: 10.76 & 220.567\n",
      "two float numbers : 10.76 &     220.57\n",
      " two float numbers : 10.76 &          220.57\n"
     ]
    }
   ],
   "source": [
    "print(\"Two float numbers: {:.2f} & {:.3f}\".format(a,b))\n",
    "print(\"two float numbers : {:.2f} & {:10.2f}\".format(a,b))\n",
    "print(\" two float numbers : {:.2f} & {:15.2f}\".format(a,b))"
   ]
  },
  {
   "cell_type": "code",
   "execution_count": 12,
   "metadata": {},
   "outputs": [
    {
     "name": "stdout",
     "output_type": "stream",
     "text": [
      "two float number ru & kin\n"
     ]
    }
   ],
   "source": [
    "print(\"two float number {:.2s} & {:.3s}\".format(\"rugved\",'kini'))"
   ]
  },
  {
   "cell_type": "code",
   "execution_count": 14,
   "metadata": {},
   "outputs": [
    {
     "name": "stdout",
     "output_type": "stream",
     "text": [
      "<class 'tuple'>\n",
      "Hello rugved kini your current balance is $53 $45\n"
     ]
    }
   ],
   "source": [
    "data = ('rugved','kini',53.44,45.22)\n",
    "print(type(data))\n",
    "format_str = 'Hello %s %s your current balance is $%d $%d'\n",
    "new_str = format_str % data\n",
    "print(new_str)"
   ]
  }
 ],
 "metadata": {
  "kernelspec": {
   "display_name": "Python 3",
   "language": "python",
   "name": "python3"
  },
  "language_info": {
   "codemirror_mode": {
    "name": "ipython",
    "version": 3
   },
   "file_extension": ".py",
   "mimetype": "text/x-python",
   "name": "python",
   "nbconvert_exporter": "python",
   "pygments_lexer": "ipython3",
   "version": "3.12.1"
  }
 },
 "nbformat": 4,
 "nbformat_minor": 2
}
