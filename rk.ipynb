{
 "cells": [
  {
   "cell_type": "code",
   "execution_count": 1,
   "metadata": {},
   "outputs": [],
   "source": [
    "\n"
   ]
  },
  {
   "cell_type": "code",
   "execution_count": 2,
   "metadata": {},
   "outputs": [
    {
     "name": "stdout",
     "output_type": "stream",
     "text": [
      "login\n"
     ]
    },
    {
     "name": "stderr",
     "output_type": "stream",
     "text": [
      "INFO:mylogs:name entered by\n",
      "INFO:mylogs:valid\n"
     ]
    }
   ],
   "source": [
    "import logging\n",
    "\n",
    "logging.basicConfig(level=logging.DEBUG)\n",
    "\n",
    "logger = logging.getLogger(\"mylogs\")\n",
    "\n",
    "gen_log = logging.FileHandler(r'logs.log')\n",
    "\n",
    "gen_log.setLevel(logging.DEBUG)\n",
    "\n",
    "logger.addHandler(gen_log)\n",
    "print(\"login\")\n",
    "name = input(\"enter name\")\n",
    "logger.info(\"name entered by\")\n",
    "if name.isalpha():\n",
    "    logger.info(\"valid\")\n",
    "else:\n",
    "    logger.error(\"error\")"
   ]
  }
 ],
 "metadata": {
  "kernelspec": {
   "display_name": "Python 3",
   "language": "python",
   "name": "python3"
  },
  "language_info": {
   "codemirror_mode": {
    "name": "ipython",
    "version": 3
   },
   "file_extension": ".py",
   "mimetype": "text/x-python",
   "name": "python",
   "nbconvert_exporter": "python",
   "pygments_lexer": "ipython3",
   "version": "3.12.1"
  }
 },
 "nbformat": 4,
 "nbformat_minor": 2
}
