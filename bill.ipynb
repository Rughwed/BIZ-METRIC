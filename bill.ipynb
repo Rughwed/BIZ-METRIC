{
 "cells": [
  {
   "cell_type": "code",
   "execution_count": 22,
   "metadata": {},
   "outputs": [],
   "source": [
    "menu = {'idli':30,'vada':40,'tea':12,'biscuit':10,'waffers':5}\n",
    "no_of_items = int(input(\"enter the no of items\"))\n",
    "order = {}\n",
    "\n",
    "for i in range(no_of_items):\n",
    "    item = input(\"enter the items\")\n",
    "    quantity = int(input(\"enter the quantity\"))\n",
    "    order[item] = quantity\n",
    "\n",
    "\n",
    "\n"
   ]
  },
  {
   "cell_type": "code",
   "execution_count": 23,
   "metadata": {},
   "outputs": [
    {
     "name": "stdout",
     "output_type": "stream",
     "text": [
      "        idli                  2           30\n",
      "        vada                  3           40\n",
      "       total                              180\n"
     ]
    }
   ],
   "source": [
    "total = 0\n",
    "total_q=0\n",
    "for i in order:\n",
    "    print(f'{i:^20} {order[i]:^20} {menu[i]}')\n",
    "    total+=(menu[i]*order[i])\n",
    "    total_q+=order[i]\n",
    "print(f'{\"total\":^20} {\"\":^20} {total}')\n"
   ]
  }
 ],
 "metadata": {
  "kernelspec": {
   "display_name": "Python 3",
   "language": "python",
   "name": "python3"
  },
  "language_info": {
   "codemirror_mode": {
    "name": "ipython",
    "version": 3
   },
   "file_extension": ".py",
   "mimetype": "text/x-python",
   "name": "python",
   "nbconvert_exporter": "python",
   "pygments_lexer": "ipython3",
   "version": "3.12.1"
  }
 },
 "nbformat": 4,
 "nbformat_minor": 2
}
