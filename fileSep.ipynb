{
 "cells": [
  {
   "cell_type": "code",
   "execution_count": 1,
   "metadata": {},
   "outputs": [],
   "source": [
    "import os\n",
    "import shutil\n",
    "def seg_file(folder):\n",
    "    try:\n",
    "        for i in os.listdir(folder):\n",
    "            if os.stat(i).st_size/1000 <= 0.10:\n",
    "                shutil.copy(i,\"C:\\\\Users\\\\Admin\\\\Desktop\\\\file1\")\n",
    "            elif os.stat(i).st_size/1000 > 0.10 and os.stat(i).st_size/1000 <= 0.20:\n",
    "                shutil.copy(i,\"C:\\\\Users\\\\Admin\\\\Desktop\\\\file2\")\n",
    "            elif os.stat(i).st_size/1000 >0.20:\n",
    "                shutil.copy(i,\"C:\\\\Users\\\\Admin\\\\Desktop\\\\file3\")\n",
    "    except:\n",
    "        print(\"error\")\n",
    "    \n",
    "\n"
   ]
  },
  {
   "cell_type": "code",
   "execution_count": 2,
   "metadata": {},
   "outputs": [],
   "source": [
    "folder = \"C:\\\\Users\\\\Admin\\\\Desktop\\\\sample2\""
   ]
  },
  {
   "cell_type": "code",
   "execution_count": 3,
   "metadata": {},
   "outputs": [],
   "source": [
    "seg_file(folder)"
   ]
  },
  {
   "cell_type": "code",
   "execution_count": 4,
   "metadata": {},
   "outputs": [
    {
     "name": "stdout",
     "output_type": "stream",
     "text": [
      "Something Went Wrong! Error: [WinError 3] The system cannot find the path specified: 'C:\\\\Users\\\\satpu\\\\OneDrive\\\\Pulpit\\\\Bizmetric\\\\Python'\n"
     ]
    }
   ],
   "source": [
    "try:\n",
    "    for i in os.listdir(r'C:\\Users\\satpu\\OneDrive\\Pulpit\\Bizmetric\\Python'):\n",
    "        filename = 'C:\\\\Users\\\\satpu\\\\OneDrive\\\\Pulpit\\\\Bizmetric\\\\Python\\\\'+i\n",
    "        file_size = os.stat(filename).st_size/1000\n",
    "        print(f'{i:<25} {file_size}')\n",
    " \n",
    "        if file_size >= 0.00 and file_size < 1.000:\n",
    "            shutil.copy(i, r'C:\\Users\\satpu\\OneDrive\\Pulpit\\File_handling\\Less_Than_1KB')\n",
    "        elif file_size >= 1.000 and  file_size < 5.000:\n",
    "            shutil.copy(i, r'C:\\Users\\satpu\\OneDrive\\Pulpit\\File_handling\\Less_Than_5KB')\n",
    "        elif file_size >= 5.000:\n",
    "            shutil.copy(i, r'C:\\Users\\satpu\\OneDrive\\Pulpit\\File_handling\\More_Than_5KB')\n",
    " \n",
    "except Exception as e:\n",
    "    print(f'Something Went Wrong! Error: {e}')"
   ]
  }
 ],
 "metadata": {
  "kernelspec": {
   "display_name": "Python 3",
   "language": "python",
   "name": "python3"
  },
  "language_info": {
   "codemirror_mode": {
    "name": "ipython",
    "version": 3
   },
   "file_extension": ".py",
   "mimetype": "text/x-python",
   "name": "python",
   "nbconvert_exporter": "python",
   "pygments_lexer": "ipython3",
   "version": "3.12.1"
  }
 },
 "nbformat": 4,
 "nbformat_minor": 2
}
