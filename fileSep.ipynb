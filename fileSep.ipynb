{
 "cells": [
  {
   "cell_type": "code",
   "execution_count": 18,
   "metadata": {},
   "outputs": [],
   "source": [
    "import os\n",
    "import shutil"
   ]
  },
  {
   "cell_type": "code",
   "execution_count": 14,
   "metadata": {},
   "outputs": [],
   "source": [
    "def seg_file(folder):\n",
    "    try:\n",
    "        for i in os.listdir(folder):\n",
    "            if os.stat(i).st_size/1000 <= 0.10:\n",
    "                shutil.copy(i,\"C:\\\\Users\\\\Admin\\\\Desktop\\\\file1\")\n",
    "            elif os.stat(i).st_size/1000 > 0.10 or os.stat(i).st_size/1000 <= 0.20:\n",
    "                shutil.copy(i,\"C:\\\\Users\\\\Admin\\\\Desktop\\\\file2\")\n",
    "            elif os.stat(i).st_size/1000 >0.20:\n",
    "                shutil.copy(i,\"C:\\\\Users\\\\Admin\\\\Desktop\\\\file3\")\n",
    "    except:\n",
    "        print(\"error\")\n",
    "    \n",
    "\n"
   ]
  },
  {
   "cell_type": "code",
   "execution_count": 22,
   "metadata": {},
   "outputs": [],
   "source": [
    "folder = \"C:\\\\Users\\\\Admin\\\\Desktop\\\\sample2\""
   ]
  },
  {
   "cell_type": "code",
   "execution_count": 23,
   "metadata": {},
   "outputs": [],
   "source": [
    "seg_file(folder)"
   ]
  }
 ],
 "metadata": {
  "kernelspec": {
   "display_name": "Python 3",
   "language": "python",
   "name": "python3"
  },
  "language_info": {
   "codemirror_mode": {
    "name": "ipython",
    "version": 3
   },
   "file_extension": ".py",
   "mimetype": "text/x-python",
   "name": "python",
   "nbconvert_exporter": "python",
   "pygments_lexer": "ipython3",
   "version": "3.12.1"
  }
 },
 "nbformat": 4,
 "nbformat_minor": 2
}
