{
 "cells": [
  {
   "cell_type": "markdown",
   "metadata": {},
   "source": [
    "#form1"
   ]
  },
  {
   "cell_type": "code",
   "execution_count": 16,
   "metadata": {},
   "outputs": [
    {
     "name": "stdout",
     "output_type": "stream",
     "text": [
      "name saved\n",
      "saved\n",
      "saved\n"
     ]
    }
   ],
   "source": [
    "##...............................................names...................................................\n",
    "\n",
    "f_name = input(\"enter first name\")\n",
    "if f_name.isalpha():\n",
    "        print(\"name saved\")\n",
    "else:\n",
    "        print('invalid')\n",
    "\n",
    "m_name = input(\"enter middle name\")\n",
    "\n",
    "if m_name.isalpha():\n",
    "        print(\"saved\")\n",
    "else:\n",
    "        print('invalid')\n",
    "\n",
    "l_name = input(\"enter last name\")\n",
    "if (l_name.isalpha()):\n",
    "        print(\"saved\")\n",
    "else:\n",
    "        print('invalid')\n",
    "\n",
    "#..................................................dob.............................................................#\n",
    "\n",
    "day1 = int(input(\"enter day\"))\n",
    "month1 = input(\"enter month\")\n",
    "year1 = input(\"enter year\")\n"
   ]
  }
 ],
 "metadata": {
  "kernelspec": {
   "display_name": "Python 3",
   "language": "python",
   "name": "python3"
  },
  "language_info": {
   "codemirror_mode": {
    "name": "ipython",
    "version": 3
   },
   "file_extension": ".py",
   "mimetype": "text/x-python",
   "name": "python",
   "nbconvert_exporter": "python",
   "pygments_lexer": "ipython3",
   "version": "3.12.1"
  }
 },
 "nbformat": 4,
 "nbformat_minor": 2
}
