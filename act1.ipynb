{
 "cells": [
  {
   "cell_type": "markdown",
   "metadata": {},
   "source": [
    "#form1"
   ]
  },
  {
   "cell_type": "code",
   "execution_count": 2,
   "metadata": {},
   "outputs": [],
   "source": [
    "import re\n",
    "import datetime as dt"
   ]
  },
  {
   "cell_type": "code",
   "execution_count": 11,
   "metadata": {},
   "outputs": [],
   "source": [
    "\n",
    "name = {'f_name':'','m_name':'','s_name':''}"
   ]
  },
  {
   "cell_type": "code",
   "execution_count": 21,
   "metadata": {},
   "outputs": [],
   "source": [
    "def nameing():\n",
    "    for i in name:\n",
    "        print(f\"enter {i}\")\n",
    "        temp = input()\n",
    "        while True:\n",
    "            if re.fullmatch(r'[A-Z][a-z]+',temp):\n",
    "                name[i]=temp\n",
    "                break\n",
    "            else:\n",
    "                temp = input('Re-enter')\n",
    "\n"
   ]
  },
  {
   "cell_type": "code",
   "execution_count": 22,
   "metadata": {},
   "outputs": [
    {
     "name": "stdout",
     "output_type": "stream",
     "text": [
      "enter f_name\n",
      "enter m_name\n",
      "enter s_name\n"
     ]
    }
   ],
   "source": [
    "nameing()\n"
   ]
  },
  {
   "cell_type": "code",
   "execution_count": 29,
   "metadata": {},
   "outputs": [],
   "source": [
    "date_OB = input(\"DOB IN dd-mm-yyyy format\")\n",
    "if re.fullmatch(r'\\d{2}-\\d{2}-\\d{4}',date_OB):\n",
    "    print(\"valid\")\n"
   ]
  },
  {
   "cell_type": "code",
   "execution_count": 8,
   "metadata": {},
   "outputs": [],
   "source": [
    "d = input()\n",
    "re.fullmatch(r'0[1-9]|1[0-9]|2[0-9]|3[0-1]',d)"
   ]
  }
 ],
 "metadata": {
  "kernelspec": {
   "display_name": "Python 3",
   "language": "python",
   "name": "python3"
  },
  "language_info": {
   "codemirror_mode": {
    "name": "ipython",
    "version": 3
   },
   "file_extension": ".py",
   "mimetype": "text/x-python",
   "name": "python",
   "nbconvert_exporter": "python",
   "pygments_lexer": "ipython3",
   "version": "3.12.1"
  }
 },
 "nbformat": 4,
 "nbformat_minor": 2
}
