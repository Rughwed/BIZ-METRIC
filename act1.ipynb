{
 "cells": [
  {
   "cell_type": "markdown",
   "metadata": {},
   "source": [
    "#form1"
   ]
  },
  {
   "cell_type": "code",
   "execution_count": 11,
   "metadata": {},
   "outputs": [
    {
     "name": "stdout",
     "output_type": "stream",
     "text": [
      "enter first name\n",
      "saved\n"
     ]
    }
   ],
   "source": [
    "\n",
    "def type_name(name):\n",
    "        print(f\"enter {name} name\")\n",
    "        m_name = input()\n",
    "\n",
    "        if m_name.isalpha():\n",
    "                print(\"saved\")\n",
    "                return m_name.title()\n",
    "        else:\n",
    "                while True:\n",
    "                        m_name = input(\"re-enter\")\n",
    "\n",
    "                        if m_name.isalpha():\n",
    "                                print(\"saved\")\n",
    "                                break\n",
    "                return m_name.title()       \n",
    "                \n",
    "                \n",
    "a = type_name('first')\n",
    "\n",
    "\n"
   ]
  },
  {
   "cell_type": "code",
   "execution_count": null,
   "metadata": {},
   "outputs": [],
   "source": [
    "def type_n():\n",
    "    \n",
    "\n",
    "    return"
   ]
  }
 ],
 "metadata": {
  "kernelspec": {
   "display_name": "Python 3",
   "language": "python",
   "name": "python3"
  },
  "language_info": {
   "codemirror_mode": {
    "name": "ipython",
    "version": 3
   },
   "file_extension": ".py",
   "mimetype": "text/x-python",
   "name": "python",
   "nbconvert_exporter": "python",
   "pygments_lexer": "ipython3",
   "version": "3.12.1"
  }
 },
 "nbformat": 4,
 "nbformat_minor": 2
}
